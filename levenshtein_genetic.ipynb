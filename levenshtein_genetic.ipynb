{
 "cells": [
  {
   "cell_type": "code",
   "execution_count": null,
   "metadata": {},
   "outputs": [],
   "source": [
    "import numpy as np\n",
    "import time"
   ]
  },
  {
   "cell_type": "code",
   "execution_count": null,
   "metadata": {},
   "outputs": [],
   "source": [
    "goal = 'foo bar foo bar'\n",
    "SEARCH_SPACE_START, SEARCH_SPACE_END = 32, 128\n",
    "SEARCH_SPACE = list('abcdefghijklmnopqrstuvwxyzABCDEFGHIJKLMNOPQRSTUVWXYZ1234567890 ')\n",
    "init_pop_size = 1000\n",
    "breed_rate = .8\n",
    "crossover_probability = .1\n",
    "mutation_probability = .01\n",
    "epsilon_sqrt = 0.0001\n"
   ]
  },
  {
   "cell_type": "code",
   "execution_count": null,
   "metadata": {},
   "outputs": [],
   "source": [
    "def initialize_population(init_pop_size, goal):\n",
    "    return np.array([''.join([i for i in np.random.choice(SEARCH_SPACE, len(goal))]) for i in range(init_pop_size)])"
   ]
  },
  {
   "cell_type": "code",
   "execution_count": null,
   "metadata": {},
   "outputs": [],
   "source": [
    "def fitness(individual):\n",
    "#     print(individual)\n",
    "    return sum([np.absolute(ord(goal[i])-ord(individual[i])) for i in range(len(individual))])"
   ]
  },
  {
   "cell_type": "code",
   "execution_count": null,
   "metadata": {},
   "outputs": [],
   "source": [
    "def crossover(indiv_1, indiv_2):\n",
    "    crossover_point = np.random.randint(0, len(indiv_1), 1)[0]\n",
    "    return ''.join(list([str(indiv_1[i]) for i in range(crossover_point)] + [str(indiv_2[i]) for i in range(crossover_point, len(indiv_2))]))"
   ]
  },
  {
   "cell_type": "code",
   "execution_count": null,
   "metadata": {},
   "outputs": [],
   "source": [
    "def mutation(curr_pop, mutation_prob):\n",
    "    def indiv_mutate(individual, mutation_prob):\n",
    "        l = list(individual)\n",
    "        for i in range(len(l)):\n",
    "            if np.random.uniform(0,1) < mutation_prob:\n",
    "                l[i] = np.random.choice(SEARCH_SPACE, len(goal))[0]\n",
    "        return ''.join(l)\n",
    "    return np.array([indiv_mutate(i, mutation_prob) for i in curr_pop])"
   ]
  },
  {
   "cell_type": "code",
   "execution_count": null,
   "metadata": {},
   "outputs": [],
   "source": [
    "def isAmongGeneration(goal, gen):\n",
    "    if goal in gen:\n",
    "        return True\n",
    "    else:\n",
    "        return False"
   ]
  },
  {
   "cell_type": "code",
   "execution_count": null,
   "metadata": {},
   "outputs": [],
   "source": [
    "def getGeneIndex(goal, gen):\n",
    "    count = 0\n",
    "    for gene in gen:\n",
    "        if gene == goal:\n",
    "            return count\n",
    "        else:\n",
    "            count += 1\n",
    "    return -1"
   ]
  },
  {
   "cell_type": "code",
   "execution_count": null,
   "metadata": {},
   "outputs": [],
   "source": [
    "def genetic_generation(goal, init_pop_size, mutation_probability, breed_rate):\n",
    "    curr_pop = initialize_population(init_pop_size, goal)\n",
    "    curr_fitness = np.array(list(map(fitness, curr_pop)))\n",
    "    curr_fitness_distr = (1/curr_fitness)/sum(1/curr_fitness)\n",
    "    generation = 0\n",
    "    fittest_individual = curr_pop[min(curr_fitness)]\n",
    "    stored_pop = []\n",
    "    while(fittest_individual is not goal and curr_pop != 0 and not isAmongGeneration(goal, stored_pop)):\n",
    "        generation += 1\n",
    "        print(\"Generation \" + str(generation) + \":\", str(fittest_individual) + \" Fitness: \" + str(max(curr_fitness)))\n",
    "        new_pop = []\n",
    "        fitness_enum = sorted([(curr_pop[i],curr_fitness[i]) for i in range(len(curr_pop))], key=lambda x: x[1])[::-1][:int(.8)*len(curr_pop)]\n",
    "        new_pop = new_pop + fitness_enum\n",
    "        for i in range(0, int(len(curr_pop)-len(fitness_enum))):\n",
    "            parent_1, parent_2 = tuple([curr_pop[np.random.choice(len(curr_pop), 1, p=curr_fitness_distr)], curr_pop[np.random.choice(len(curr_pop), 1, p=curr_fitness_distr)]])\n",
    "            new_pop.append(''.join([i for i in parent_1]))\n",
    "        new_pop = mutation(new_pop, mutation_probability)\n",
    "        stored_pop = new_pop\n",
    "        curr_pop = np.array(new_pop)\n",
    "        curr_fitness = np.array(list(map(fitness, curr_pop)))\n",
    "        curr_fitness_distr = (1/(curr_fitness+epsilon_sqrt))/sum(1/(curr_fitness+epsilon_sqrt))\n",
    "        fittest_individual = curr_pop[np.argmax(curr_fitness)]\n",
    "    print('~~~~~~~~~~~~~~~~~~~~~~~~~~~~~~~~~~~~~~~~~~~')\n",
    "    print(\"Found goal in generation \" + str(generation) + \" index number \" + str(getGeneIndex(goal, stored_pop)) + \": \" + '\"' + goal + '\"')"
   ]
  },
  {
   "cell_type": "code",
   "execution_count": null,
   "metadata": {},
   "outputs": [],
   "source": [
    "genetic_generation(goal, init_pop_size, mutation_probability, breed_rate)"
   ]
  }
 ],
 "metadata": {
  "kernelspec": {
   "display_name": "Python 3",
   "language": "python",
   "name": "python3"
  },
  "language_info": {
   "codemirror_mode": {
    "name": "ipython",
    "version": 3
   },
   "file_extension": ".py",
   "mimetype": "text/x-python",
   "name": "python",
   "nbconvert_exporter": "python",
   "pygments_lexer": "ipython3",
   "version": "3.7.3"
  }
 },
 "nbformat": 4,
 "nbformat_minor": 2
}
